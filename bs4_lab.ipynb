{
  "nbformat": 4,
  "nbformat_minor": 0,
  "metadata": {
    "colab": {
      "name": "bs4-lab.ipynb",
      "provenance": []
    },
    "kernelspec": {
      "name": "python3",
      "display_name": "Python 3"
    }
  },
  "cells": [
    {
      "cell_type": "code",
      "metadata": {
        "id": "jJD_K05Cunwf",
        "colab_type": "code",
        "colab": {}
      },
      "source": [
        "%%capture\n",
        "!pip install requests"
      ],
      "execution_count": 1,
      "outputs": []
    },
    {
      "cell_type": "code",
      "metadata": {
        "id": "9hKBljaKvDqW",
        "colab_type": "code",
        "colab": {}
      },
      "source": [
        "import requests\n",
        "from requests import get\n",
        "from bs4 import BeautifulSoup\n",
        "import pandas as pd\n",
        "import numpy as np\n"
      ],
      "execution_count": 2,
      "outputs": []
    },
    {
      "cell_type": "code",
      "metadata": {
        "id": "cnJazuwovN4r",
        "colab_type": "code",
        "colab": {
          "base_uri": "https://localhost:8080/",
          "height": 34
        },
        "outputId": "44c0ab73-95ef-4df3-90bc-a9c28690968c"
      },
      "source": [
        "url = \"https://nimhans.ac.in/academic-announcements/page/1/\n",
        "\n",
        "results= requests.get(url)\n",
        "\n",
        "print(results)"
      ],
      "execution_count": 4,
      "outputs": [
        {
          "output_type": "stream",
          "text": [
            "<Response [200]>\n"
          ],
          "name": "stdout"
        }
      ]
    },
    {
      "cell_type": "code",
      "metadata": {
        "id": "vsuKgdEhvcYL",
        "colab_type": "code",
        "colab": {}
      },
      "source": [
        "soup = BeautifulSoup(results.text, \"html.parser\")\n"
      ],
      "execution_count": 9,
      "outputs": []
    },
    {
      "cell_type": "code",
      "metadata": {
        "id": "U_BxMLmivuQH",
        "colab_type": "code",
        "colab": {}
      },
      "source": [
        "announcements = soup.find_all('div', class_='wp-show-posts-inner')\n",
        "\n",
        "\n",
        "\n",
        "\n",
        "list_of_ann = []\n",
        "\n",
        "for container in announcements:\n",
        "  ann = container.a.text\n",
        "  list_of_ann.append(ann)\n",
        "\n",
        "\n"
      ],
      "execution_count": 7,
      "outputs": []
    },
    {
      "cell_type": "code",
      "metadata": {
        "id": "WBFiSY2jxfsf",
        "colab_type": "code",
        "colab": {
          "base_uri": "https://localhost:8080/",
          "height": 54
        },
        "outputId": "1861777b-1123-4ccb-ae53-9cd1a55284fe"
      },
      "source": [
        "print(list_of_ann)"
      ],
      "execution_count": 8,
      "outputs": [
        {
          "output_type": "stream",
          "text": [
            "['2-weeks  training  course  titled   ‘Online  Certificate  Course  in  Research  in  Mental  Health  and  Non-Communicable  Diseases’', 'Session 1 Online Entrance Test of PG (Medical and Non Medical )& UG for the academic year 2020-2021 has been rescheduled to be held on 29.09.2020 & 30.09.2020 for PG and 0l . 10.2020 for UG', 'Link for Session 1 Online Entrance Test for the academic year 2020-2021', 'Session 1 Online Entrance Test PG (Medical and Non Medical )& UG for the academic year 2020-2021', 'Result Notification for B.Sc. in Nursing IV Year, B.Sc. in Anaesthesia Technology and B.Sc. in Radiography -I,II & III Year', 'B.Sc. in Nursing-I, II & III Year Annual Examinations June 2020', '25th Convocation of NIMHANS will not be conducted in July 2020 due to Covid 19 pandemic', 'Notification for the post of (Non-PG ) Post MD/DNB Senior Resident in the Department of Psychiatry', '25th Convocation: Notification and Application Form', 'Results & Admission instructions pertaining to the Post Basic B.Sc Nursing course for the academic year 2020-21']\n"
          ],
          "name": "stdout"
        }
      ]
    },
    {
      "cell_type": "code",
      "metadata": {
        "id": "Id-EEztUycmR",
        "colab_type": "code",
        "colab": {
          "base_uri": "https://localhost:8080/",
          "height": 1000
        },
        "outputId": "d470e4af-5016-431f-bb53-b09e55837b77"
      },
      "source": [
        "\n",
        "from time import sleep\n",
        "from random import randint\n",
        "\n",
        "\n",
        "\n",
        "pages = np.arange(1,10,1)\n",
        "\n",
        "list_of_ann = []\n",
        "list_of_url = []\n",
        "\n",
        "for page in pages:\n",
        " \n",
        "  page = requests.get('https://nimhans.ac.in/academic-announcements/page/'+str(page)+'/')\n",
        "  print(page.url)\n",
        "  soup = BeautifulSoup(results.text, \"html.parser\")\n",
        "  announcements = soup.find_all('div', class_='wp-show-posts-inner')\n",
        "\n",
        "  for container in announcements:\n",
        "    ann = container.a.text\n",
        "    print(ann)\n",
        "    list_of_ann.append(ann)\n",
        "  \n",
        "\n",
        "  #sleep(randint(2,10))\n",
        "\n",
        "\n",
        "nimhans_announcements = pd.DataFrame({\n",
        "    'Announcement': list_of_ann\n",
        "})\n",
        "\n",
        "nimhans_announcements.to_csv('nimhans.csv')\n",
        "\n"
      ],
      "execution_count": 18,
      "outputs": [
        {
          "output_type": "stream",
          "text": [
            "https://nimhans.ac.in/academic-announcements/\n",
            "2-weeks  training  course  titled   ‘Online  Certificate  Course  in  Research  in  Mental  Health  and  Non-Communicable  Diseases’\n",
            "Session 1 Online Entrance Test of PG (Medical and Non Medical )& UG for the academic year 2020-2021 has been rescheduled to be held on 29.09.2020 & 30.09.2020 for PG and 0l . 10.2020 for UG\n",
            "Link for Session 1 Online Entrance Test for the academic year 2020-2021\n",
            "Session 1 Online Entrance Test PG (Medical and Non Medical )& UG for the academic year 2020-2021\n",
            "Result Notification for B.Sc. in Nursing IV Year, B.Sc. in Anaesthesia Technology and B.Sc. in Radiography -I,II & III Year\n",
            "B.Sc. in Nursing-I, II & III Year Annual Examinations June 2020\n",
            "25th Convocation of NIMHANS will not be conducted in July 2020 due to Covid 19 pandemic\n",
            "Notification for the post of (Non-PG ) Post MD/DNB Senior Resident in the Department of Psychiatry\n",
            "25th Convocation: Notification and Application Form\n",
            "Results & Admission instructions pertaining to the Post Basic B.Sc Nursing course for the academic year 2020-21\n",
            "https://nimhans.ac.in/academic-announcements/page/2/\n",
            "2-weeks  training  course  titled   ‘Online  Certificate  Course  in  Research  in  Mental  Health  and  Non-Communicable  Diseases’\n",
            "Session 1 Online Entrance Test of PG (Medical and Non Medical )& UG for the academic year 2020-2021 has been rescheduled to be held on 29.09.2020 & 30.09.2020 for PG and 0l . 10.2020 for UG\n",
            "Link for Session 1 Online Entrance Test for the academic year 2020-2021\n",
            "Session 1 Online Entrance Test PG (Medical and Non Medical )& UG for the academic year 2020-2021\n",
            "Result Notification for B.Sc. in Nursing IV Year, B.Sc. in Anaesthesia Technology and B.Sc. in Radiography -I,II & III Year\n",
            "B.Sc. in Nursing-I, II & III Year Annual Examinations June 2020\n",
            "25th Convocation of NIMHANS will not be conducted in July 2020 due to Covid 19 pandemic\n",
            "Notification for the post of (Non-PG ) Post MD/DNB Senior Resident in the Department of Psychiatry\n",
            "25th Convocation: Notification and Application Form\n",
            "Results & Admission instructions pertaining to the Post Basic B.Sc Nursing course for the academic year 2020-21\n",
            "https://nimhans.ac.in/academic-announcements/page/3/\n",
            "2-weeks  training  course  titled   ‘Online  Certificate  Course  in  Research  in  Mental  Health  and  Non-Communicable  Diseases’\n",
            "Session 1 Online Entrance Test of PG (Medical and Non Medical )& UG for the academic year 2020-2021 has been rescheduled to be held on 29.09.2020 & 30.09.2020 for PG and 0l . 10.2020 for UG\n",
            "Link for Session 1 Online Entrance Test for the academic year 2020-2021\n",
            "Session 1 Online Entrance Test PG (Medical and Non Medical )& UG for the academic year 2020-2021\n",
            "Result Notification for B.Sc. in Nursing IV Year, B.Sc. in Anaesthesia Technology and B.Sc. in Radiography -I,II & III Year\n",
            "B.Sc. in Nursing-I, II & III Year Annual Examinations June 2020\n",
            "25th Convocation of NIMHANS will not be conducted in July 2020 due to Covid 19 pandemic\n",
            "Notification for the post of (Non-PG ) Post MD/DNB Senior Resident in the Department of Psychiatry\n",
            "25th Convocation: Notification and Application Form\n",
            "Results & Admission instructions pertaining to the Post Basic B.Sc Nursing course for the academic year 2020-21\n",
            "https://nimhans.ac.in/academic-announcements/page/4/\n",
            "2-weeks  training  course  titled   ‘Online  Certificate  Course  in  Research  in  Mental  Health  and  Non-Communicable  Diseases’\n",
            "Session 1 Online Entrance Test of PG (Medical and Non Medical )& UG for the academic year 2020-2021 has been rescheduled to be held on 29.09.2020 & 30.09.2020 for PG and 0l . 10.2020 for UG\n",
            "Link for Session 1 Online Entrance Test for the academic year 2020-2021\n",
            "Session 1 Online Entrance Test PG (Medical and Non Medical )& UG for the academic year 2020-2021\n",
            "Result Notification for B.Sc. in Nursing IV Year, B.Sc. in Anaesthesia Technology and B.Sc. in Radiography -I,II & III Year\n",
            "B.Sc. in Nursing-I, II & III Year Annual Examinations June 2020\n",
            "25th Convocation of NIMHANS will not be conducted in July 2020 due to Covid 19 pandemic\n",
            "Notification for the post of (Non-PG ) Post MD/DNB Senior Resident in the Department of Psychiatry\n",
            "25th Convocation: Notification and Application Form\n",
            "Results & Admission instructions pertaining to the Post Basic B.Sc Nursing course for the academic year 2020-21\n",
            "https://nimhans.ac.in/academic-announcements/page/5/\n",
            "2-weeks  training  course  titled   ‘Online  Certificate  Course  in  Research  in  Mental  Health  and  Non-Communicable  Diseases’\n",
            "Session 1 Online Entrance Test of PG (Medical and Non Medical )& UG for the academic year 2020-2021 has been rescheduled to be held on 29.09.2020 & 30.09.2020 for PG and 0l . 10.2020 for UG\n",
            "Link for Session 1 Online Entrance Test for the academic year 2020-2021\n",
            "Session 1 Online Entrance Test PG (Medical and Non Medical )& UG for the academic year 2020-2021\n",
            "Result Notification for B.Sc. in Nursing IV Year, B.Sc. in Anaesthesia Technology and B.Sc. in Radiography -I,II & III Year\n",
            "B.Sc. in Nursing-I, II & III Year Annual Examinations June 2020\n",
            "25th Convocation of NIMHANS will not be conducted in July 2020 due to Covid 19 pandemic\n",
            "Notification for the post of (Non-PG ) Post MD/DNB Senior Resident in the Department of Psychiatry\n",
            "25th Convocation: Notification and Application Form\n",
            "Results & Admission instructions pertaining to the Post Basic B.Sc Nursing course for the academic year 2020-21\n",
            "https://nimhans.ac.in/academic-announcements/page/6/\n",
            "2-weeks  training  course  titled   ‘Online  Certificate  Course  in  Research  in  Mental  Health  and  Non-Communicable  Diseases’\n",
            "Session 1 Online Entrance Test of PG (Medical and Non Medical )& UG for the academic year 2020-2021 has been rescheduled to be held on 29.09.2020 & 30.09.2020 for PG and 0l . 10.2020 for UG\n",
            "Link for Session 1 Online Entrance Test for the academic year 2020-2021\n",
            "Session 1 Online Entrance Test PG (Medical and Non Medical )& UG for the academic year 2020-2021\n",
            "Result Notification for B.Sc. in Nursing IV Year, B.Sc. in Anaesthesia Technology and B.Sc. in Radiography -I,II & III Year\n",
            "B.Sc. in Nursing-I, II & III Year Annual Examinations June 2020\n",
            "25th Convocation of NIMHANS will not be conducted in July 2020 due to Covid 19 pandemic\n",
            "Notification for the post of (Non-PG ) Post MD/DNB Senior Resident in the Department of Psychiatry\n",
            "25th Convocation: Notification and Application Form\n",
            "Results & Admission instructions pertaining to the Post Basic B.Sc Nursing course for the academic year 2020-21\n",
            "https://nimhans.ac.in/academic-announcements/page/7/\n",
            "2-weeks  training  course  titled   ‘Online  Certificate  Course  in  Research  in  Mental  Health  and  Non-Communicable  Diseases’\n",
            "Session 1 Online Entrance Test of PG (Medical and Non Medical )& UG for the academic year 2020-2021 has been rescheduled to be held on 29.09.2020 & 30.09.2020 for PG and 0l . 10.2020 for UG\n",
            "Link for Session 1 Online Entrance Test for the academic year 2020-2021\n",
            "Session 1 Online Entrance Test PG (Medical and Non Medical )& UG for the academic year 2020-2021\n",
            "Result Notification for B.Sc. in Nursing IV Year, B.Sc. in Anaesthesia Technology and B.Sc. in Radiography -I,II & III Year\n",
            "B.Sc. in Nursing-I, II & III Year Annual Examinations June 2020\n",
            "25th Convocation of NIMHANS will not be conducted in July 2020 due to Covid 19 pandemic\n",
            "Notification for the post of (Non-PG ) Post MD/DNB Senior Resident in the Department of Psychiatry\n",
            "25th Convocation: Notification and Application Form\n",
            "Results & Admission instructions pertaining to the Post Basic B.Sc Nursing course for the academic year 2020-21\n",
            "https://nimhans.ac.in/academic-announcements/page/8/\n",
            "2-weeks  training  course  titled   ‘Online  Certificate  Course  in  Research  in  Mental  Health  and  Non-Communicable  Diseases’\n",
            "Session 1 Online Entrance Test of PG (Medical and Non Medical )& UG for the academic year 2020-2021 has been rescheduled to be held on 29.09.2020 & 30.09.2020 for PG and 0l . 10.2020 for UG\n",
            "Link for Session 1 Online Entrance Test for the academic year 2020-2021\n",
            "Session 1 Online Entrance Test PG (Medical and Non Medical )& UG for the academic year 2020-2021\n",
            "Result Notification for B.Sc. in Nursing IV Year, B.Sc. in Anaesthesia Technology and B.Sc. in Radiography -I,II & III Year\n",
            "B.Sc. in Nursing-I, II & III Year Annual Examinations June 2020\n",
            "25th Convocation of NIMHANS will not be conducted in July 2020 due to Covid 19 pandemic\n",
            "Notification for the post of (Non-PG ) Post MD/DNB Senior Resident in the Department of Psychiatry\n",
            "25th Convocation: Notification and Application Form\n",
            "Results & Admission instructions pertaining to the Post Basic B.Sc Nursing course for the academic year 2020-21\n",
            "https://nimhans.ac.in/academic-announcements/page/9/\n",
            "2-weeks  training  course  titled   ‘Online  Certificate  Course  in  Research  in  Mental  Health  and  Non-Communicable  Diseases’\n",
            "Session 1 Online Entrance Test of PG (Medical and Non Medical )& UG for the academic year 2020-2021 has been rescheduled to be held on 29.09.2020 & 30.09.2020 for PG and 0l . 10.2020 for UG\n",
            "Link for Session 1 Online Entrance Test for the academic year 2020-2021\n",
            "Session 1 Online Entrance Test PG (Medical and Non Medical )& UG for the academic year 2020-2021\n",
            "Result Notification for B.Sc. in Nursing IV Year, B.Sc. in Anaesthesia Technology and B.Sc. in Radiography -I,II & III Year\n",
            "B.Sc. in Nursing-I, II & III Year Annual Examinations June 2020\n",
            "25th Convocation of NIMHANS will not be conducted in July 2020 due to Covid 19 pandemic\n",
            "Notification for the post of (Non-PG ) Post MD/DNB Senior Resident in the Department of Psychiatry\n",
            "25th Convocation: Notification and Application Form\n",
            "Results & Admission instructions pertaining to the Post Basic B.Sc Nursing course for the academic year 2020-21\n"
          ],
          "name": "stdout"
        }
      ]
    },
    {
      "cell_type": "code",
      "metadata": {
        "id": "CmDthMKo0-Oj",
        "colab_type": "code",
        "colab": {}
      },
      "source": [
        ""
      ],
      "execution_count": null,
      "outputs": []
    }
  ]
}